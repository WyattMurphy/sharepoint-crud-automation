{
 "cells": [
  {
   "cell_type": "code",
   "execution_count": 5,
   "metadata": {},
   "outputs": [],
   "source": [
    "import logging\n",
    "import json\n",
    "import yaml\n",
    "from office365.sharepoint.client_context import ClientContext\n",
    "from office365.runtime.auth.client_credential import ClientCredential\n",
    "import os"
   ]
  },
  {
   "cell_type": "code",
   "execution_count": 42,
   "metadata": {},
   "outputs": [],
   "source": [
    "# If running in a notebook, manually set the path or use os.getcwd()\n",
    "config_folder = os.path.join(os.getcwd(), '../config')\n",
    "\n",
    "# Paths to the configuration and credentials files\n",
    "config_path = os.path.join(config_folder, 'config.yaml')\n",
    "credentials_path = os.path.join(config_folder, 'credentials.json')\n"
   ]
  },
  {
   "cell_type": "code",
   "execution_count": 43,
   "metadata": {},
   "outputs": [],
   "source": [
    "# Load the configuration files\n",
    "def load_config():\n",
    "    with open(config_path, 'r') as file:\n",
    "        return yaml.safe_load(file)\n",
    "\n",
    "def load_credentials():\n",
    "    with open(credentials_path, 'r') as file:\n",
    "        return json.load(file)"
   ]
  },
  {
   "cell_type": "code",
   "execution_count": 45,
   "metadata": {},
   "outputs": [],
   "source": [
    "# Load config and credentials\n",
    "config = load_config()\n",
    "credentials = load_credentials()"
   ]
  },
  {
   "cell_type": "code",
   "execution_count": 46,
   "metadata": {},
   "outputs": [],
   "source": [
    "# Get SharePoint URL and credentials from the loaded files\n",
    "SHAREPOINT_URL = config[\"sharepoint\"][\"site_url\"]\n",
    "CLIENT_ID = credentials[\"client_id\"]\n",
    "CLIENT_SECRET = credentials[\"client_secret\"]"
   ]
  },
  {
   "cell_type": "code",
   "execution_count": 47,
   "metadata": {},
   "outputs": [],
   "source": [
    "# Create ClientCredential instance\n",
    "client_credential = ClientCredential(CLIENT_ID, CLIENT_SECRET)"
   ]
  },
  {
   "cell_type": "code",
   "execution_count": 48,
   "metadata": {},
   "outputs": [],
   "source": [
    "# Initialize ClientContext with authentication\n",
    "ctx = ClientContext(SHAREPOINT_URL).with_credentials(client_credential)\n"
   ]
  },
  {
   "cell_type": "code",
   "execution_count": 50,
   "metadata": {},
   "outputs": [],
   "source": [
    "# Function to upload a file\n",
    "def upload_file(folder_url, file_path):\n",
    "    \"\"\"Uploads a file to the specified SharePoint folder.\"\"\"\n",
    "    try:\n",
    "        with open(file_path, \"rb\") as file_content:\n",
    "            folder = ctx.web.get_folder_by_server_relative_url(folder_url)\n",
    "            folder.upload_file(file_path.split(\"/\")[-1], file_content)\n",
    "            ctx.execute_query()\n",
    "            logging.info(f\"Uploaded file: {file_path}\")\n",
    "            print(f\"Uploaded: {file_path}\")\n",
    "    except Exception as e:\n",
    "        logging.error(f\"Upload failed: {e}\")\n",
    "        print(f\"Upload failed: {e}\")\n"
   ]
  },
  {
   "cell_type": "code",
   "execution_count": 51,
   "metadata": {},
   "outputs": [],
   "source": [
    "# Function to download a file\n",
    "def download_file(file_url, save_path):\n",
    "    \"\"\"Downloads a file from SharePoint.\"\"\"\n",
    "    try:\n",
    "        file = ctx.web.get_file_by_server_relative_url(file_url)\n",
    "        content = file.download()\n",
    "        ctx.execute_query()\n",
    "        \n",
    "        with open(save_path, \"wb\") as f:\n",
    "            f.write(content.read())\n",
    "        \n",
    "        logging.info(f\"Downloaded file: {file_url}\")\n",
    "        print(f\"Downloaded: {save_path}\")\n",
    "    except Exception as e:\n",
    "        logging.error(f\"Download failed: {e}\")\n",
    "        print(f\"Download failed: {e}\")\n"
   ]
  },
  {
   "cell_type": "code",
   "execution_count": 52,
   "metadata": {},
   "outputs": [],
   "source": [
    "# Function to delete a file\n",
    "def delete_file(file_url):\n",
    "    \"\"\"Deletes a file from SharePoint.\"\"\"\n",
    "    try:\n",
    "        file = ctx.web.get_file_by_server_relative_url(file_url)\n",
    "        file.delete_object()\n",
    "        ctx.execute_query()\n",
    "        logging.info(f\"Deleted file: {file_url}\")\n",
    "        print(f\"Deleted: {file_url}\")\n",
    "    except Exception as e:\n",
    "        logging.error(f\"Delete failed: {e}\")\n",
    "        print(f\"Delete failed: {e}\")\n"
   ]
  },
  {
   "cell_type": "code",
   "execution_count": 53,
   "metadata": {},
   "outputs": [],
   "source": [
    "# Function to list files in a SharePoint folder\n",
    "def list_files(folder_url):\n",
    "    \"\"\"Lists files in a SharePoint folder.\"\"\"\n",
    "    try:\n",
    "        folder = ctx.web.get_folder_by_server_relative_url(folder_url)\n",
    "        files = folder.files.get().execute_query()\n",
    "        file_list = [file.properties[\"Name\"] for file in files]\n",
    "        logging.info(f\"Listed files in {folder_url}: {file_list}\")\n",
    "        print(f\"Files in {folder_url}: {file_list}\")\n",
    "    except Exception as e:\n",
    "        logging.error(f\"List failed: {e}\")\n",
    "        print(f\"List files failed: {e}\")\n"
   ]
  },
  {
   "cell_type": "code",
   "execution_count": 54,
   "metadata": {},
   "outputs": [
    {
     "name": "stdout",
     "output_type": "stream",
     "text": [
      "[18/Mar/2025 15:45:37] ERROR - Upload failed: [Errno 2] No such file or directory: '/path/to/your/local/file.xlsx'\n",
      "Upload failed: [Errno 2] No such file or directory: '/path/to/your/local/file.xlsx'\n",
      "[18/Mar/2025 15:45:37] ERROR - Download failed: download() missing 1 required positional argument: 'file_object'\n",
      "Download failed: download() missing 1 required positional argument: 'file_object'\n",
      "[18/Mar/2025 15:45:37] ERROR - Delete failed: Acquire app-only access token failed.\n",
      "Delete failed: Acquire app-only access token failed.\n",
      "[18/Mar/2025 15:45:37] ERROR - List failed: Acquire app-only access token failed.\n",
      "List files failed: Acquire app-only access token failed.\n"
     ]
    }
   ],
   "source": [
    "# Example usage in a notebook\n",
    "\n",
    "# Upload a file\n",
    "upload_file(\"Shared Documents/RealEstate\", \"/path/to/your/local/file.xlsx\")\n",
    "\n",
    "# Download a file\n",
    "download_file(\"/sites/yoursite/Shared Documents/RealEstate/yourfile.xlsx\", \"/path/to/save/yourfile.xlsx\")\n",
    "\n",
    "# Delete a file\n",
    "delete_file(\"/sites/yoursite/Shared Documents/RealEstate/yourfile.xlsx\")\n",
    "\n",
    "# List files in a folder\n",
    "list_files(\"Shared Documents/RealEstate\")"
   ]
  },
  {
   "cell_type": "code",
   "execution_count": null,
   "metadata": {},
   "outputs": [],
   "source": []
  },
  {
   "cell_type": "code",
   "execution_count": null,
   "metadata": {},
   "outputs": [],
   "source": []
  }
 ],
 "metadata": {
  "kernelspec": {
   "display_name": "Python 3.8.20 ('sharepoint-env')",
   "language": "python",
   "name": "python3"
  },
  "language_info": {
   "codemirror_mode": {
    "name": "ipython",
    "version": 3
   },
   "file_extension": ".py",
   "mimetype": "text/x-python",
   "name": "python",
   "nbconvert_exporter": "python",
   "pygments_lexer": "ipython3",
   "version": "3.8.20"
  },
  "orig_nbformat": 4,
  "vscode": {
   "interpreter": {
    "hash": "9ce5ef88dbd50255c197b6d49ccc7b183aff255457428e6ab1bced01406e98c6"
   }
  }
 },
 "nbformat": 4,
 "nbformat_minor": 2
}
