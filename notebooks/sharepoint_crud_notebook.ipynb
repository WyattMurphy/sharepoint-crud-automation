{
 "cells": [
  {
   "cell_type": "code",
   "execution_count": null,
   "metadata": {},
   "outputs": [],
   "source": [
    "import os\n",
    "import pandas as pd\n",
    "import logger as logging\n",
    "from office365.sharepoint.client_context import ClientContext\n",
    "from office365.runtime.auth.client_credential import ClientCredential\n"
   ]
  },
  {
   "cell_type": "code",
   "execution_count": null,
   "metadata": {},
   "outputs": [],
   "source": [
    "# SharePoint credentials\n",
    "SHAREPOINT_URL = \"https://yourcompany.sharepoint.com/sites/yoursite\"\n",
    "USERNAME = \"your-email@yourcompany.com\"\n",
    "PASSWORD = \"your-password\""
   ]
  },
  {
   "cell_type": "code",
   "execution_count": null,
   "metadata": {},
   "outputs": [],
   "source": [
    "# Initialize SharePoint context\n",
    "ctx = ClientContext(SHAREPOINT_URL).with_credentials(UserCredential(USERNAME, PASSWORD))\n"
   ]
  },
  {
   "cell_type": "code",
   "execution_count": null,
   "metadata": {},
   "outputs": [],
   "source": [
    "# Function to upload a file\n",
    "def upload_file(folder_url, file_path):\n",
    "    \"\"\"Uploads a file to the specified SharePoint folder.\"\"\"\n",
    "    try:\n",
    "        with open(file_path, \"rb\") as file_content:\n",
    "            folder = ctx.web.get_folder_by_server_relative_url(folder_url)\n",
    "            folder.upload_file(file_path.split(\"/\")[-1], file_content)\n",
    "            ctx.execute_query()\n",
    "            logging.info(f\"Uploaded file: {file_path}\")\n",
    "            print(f\"✅ Uploaded: {file_path}\")\n",
    "    except Exception as e:\n",
    "        logging.error(f\"Upload failed: {e}\")\n",
    "        print(f\"❌ Upload failed: {e}\")\n"
   ]
  },
  {
   "cell_type": "code",
   "execution_count": null,
   "metadata": {},
   "outputs": [],
   "source": [
    "# Function to download a file\n",
    "def download_file(file_url, save_path):\n",
    "    \"\"\"Downloads a file from SharePoint.\"\"\"\n",
    "    try:\n",
    "        file = ctx.web.get_file_by_server_relative_url(file_url)\n",
    "        content = file.download()\n",
    "        ctx.execute_query()\n",
    "        \n",
    "        with open(save_path, \"wb\") as f:\n",
    "            f.write(content.read())\n",
    "        \n",
    "        logging.info(f\"Downloaded file: {file_url}\")\n",
    "        print(f\"✅ Downloaded: {save_path}\")\n",
    "    except Exception as e:\n",
    "        logging.error(f\"Download failed: {e}\")\n",
    "        print(f\"❌ Download failed: {e}\")\n"
   ]
  },
  {
   "cell_type": "code",
   "execution_count": null,
   "metadata": {},
   "outputs": [],
   "source": [
    "# Function to delete a file\n",
    "def delete_file(file_url):\n",
    "    \"\"\"Deletes a file from SharePoint.\"\"\"\n",
    "    try:\n",
    "        file = ctx.web.get_file_by_server_relative_url(file_url)\n",
    "        file.delete_object()\n",
    "        ctx.execute_query()\n",
    "        logging.info(f\"Deleted file: {file_url}\")\n",
    "        print(f\"✅ Deleted: {file_url}\")\n",
    "    except Exception as e:\n",
    "        logging.error(f\"Delete failed: {e}\")\n",
    "        print(f\"❌ Delete failed: {e}\")\n"
   ]
  },
  {
   "cell_type": "code",
   "execution_count": null,
   "metadata": {},
   "outputs": [],
   "source": [
    "# Function to list files in a SharePoint folder\n",
    "def list_files(folder_url):\n",
    "    \"\"\"Lists files in a SharePoint folder.\"\"\"\n",
    "    try:\n",
    "        folder = ctx.web.get_folder_by_server_relative_url(folder_url)\n",
    "        files = folder.files.get().execute_query()\n",
    "        file_list = [file.properties[\"Name\"] for file in files]\n",
    "        logging.info(f\"Listed files in {folder_url}: {file_list}\")\n",
    "        print(f\"📂 Files in {folder_url}: {file_list}\")\n",
    "    except Exception as e:\n",
    "        logging.error(f\"List failed: {e}\")\n",
    "        print(f\"❌ List files failed: {e}\")\n"
   ]
  },
  {
   "cell_type": "code",
   "execution_count": null,
   "metadata": {},
   "outputs": [],
   "source": [
    "# Example usage in a notebook\n",
    "\n",
    "# Upload a file\n",
    "upload_file(\"Shared Documents/RealEstate\", \"/path/to/your/local/file.xlsx\")\n",
    "\n",
    "# Download a file\n",
    "download_file(\"/sites/yoursite/Shared Documents/RealEstate/yourfile.xlsx\", \"/path/to/save/yourfile.xlsx\")\n",
    "\n",
    "# Delete a file\n",
    "delete_file(\"/sites/yoursite/Shared Documents/RealEstate/yourfile.xlsx\")\n",
    "\n",
    "# List files in a folder\n",
    "list_files(\"Shared Documents/RealEstate\")"
   ]
  },
  {
   "cell_type": "code",
   "execution_count": null,
   "metadata": {},
   "outputs": [],
   "source": []
  },
  {
   "cell_type": "code",
   "execution_count": null,
   "metadata": {},
   "outputs": [],
   "source": []
  }
 ],
 "metadata": {
  "kernelspec": {
   "display_name": "Python 3.10.10 64-bit",
   "language": "python",
   "name": "python3"
  },
  "language_info": {
   "name": "python",
   "version": "3.10.10"
  },
  "orig_nbformat": 4,
  "vscode": {
   "interpreter": {
    "hash": "aee8b7b246df8f9039afb4144a1f6fd8d2ca17a180786b69acc140d282b71a49"
   }
  }
 },
 "nbformat": 4,
 "nbformat_minor": 2
}
